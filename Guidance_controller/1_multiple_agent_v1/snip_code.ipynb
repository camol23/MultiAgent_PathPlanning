{
 "cells": [
  {
   "cell_type": "code",
   "execution_count": 1,
   "id": "f7d8adfd",
   "metadata": {},
   "outputs": [],
   "source": [
    "import numpy as np"
   ]
  },
  {
   "cell_type": "code",
   "execution_count": 22,
   "id": "d4158703",
   "metadata": {},
   "outputs": [
    {
     "name": "stdout",
     "output_type": "stream",
     "text": [
      "4\n",
      "[1 2 3]\n",
      "\n",
      "(3, 4)\n",
      "[(1, 2)]\n",
      "\n",
      "(1, 2)\n",
      "[]\n",
      "0\n"
     ]
    }
   ],
   "source": [
    "a = np.array([1, 2, 3, 4])\n",
    "b = [(1, 2), (3, 4)]\n",
    "c = [(1, 2)]\n",
    "\n",
    "print(a[-1])\n",
    "print(a[:-1])\n",
    "print()\n",
    "print(b[-1])\n",
    "print(b[:-1])\n",
    "print()\n",
    "print(c[-1])\n",
    "print(c[:-1])\n",
    "print(len([]))\n"
   ]
  },
  {
   "cell_type": "code",
   "execution_count": 3,
   "id": "d25fa3f9",
   "metadata": {},
   "outputs": [
    {
     "name": "stdout",
     "output_type": "stream",
     "text": [
      "(3, 2)\n",
      "[2.33333333 3.33333333]\n"
     ]
    }
   ],
   "source": [
    "a = np.array([[1, 2], [3, 4],[3, 4]])\n",
    "\n",
    "\n",
    "print(a.shape)\n",
    "print(np.mean(a, axis=0))"
   ]
  },
  {
   "cell_type": "code",
   "execution_count": 2,
   "id": "4718b842",
   "metadata": {},
   "outputs": [
    {
     "name": "stdout",
     "output_type": "stream",
     "text": [
      "[1 2 3 4]\n",
      "[4 3 2 1]\n",
      "\n",
      "[4, 3, 2, 1]\n"
     ]
    }
   ],
   "source": [
    "import numpy as np\n",
    "\n",
    "a = np.array([2, 1, 4, 3])\n",
    "b = np.sort(a)\n",
    "c = np.flip(b)\n",
    "d = c.tolist()\n",
    "\n",
    "print(b)\n",
    "print(c)\n",
    "print()\n",
    "print(d)"
   ]
  },
  {
   "cell_type": "code",
   "execution_count": null,
   "id": "5ec2c24e",
   "metadata": {},
   "outputs": [
    {
     "name": "stdout",
     "output_type": "stream",
     "text": [
      "[[177.66519301 132.30592516]\n",
      " [113.49153411 172.05353196]\n",
      " [140.73620765 185.10894589]]\n",
      "93.04955417969796\n",
      "[[177.66519301304135, 132.30592516437974], [113.49153410694055, 172.05353196387816], [140.7362076509569, 185.1089458854425]]\n",
      "3\n"
     ]
    }
   ],
   "source": [
    "dim_row, dim_colm = 3, 2\n",
    "dist_matrix = (np.random.rand(dim_row, dim_colm)+1)*100\n",
    "dist_matrix2 = (np.random.rand(dim_row, 1, dim_colm))*100\n",
    "print(dist_matrix)\n",
    "print(np.max(dist_matrix2))\n",
    "\n",
    "b = dist_matrix.tolist()\n",
    "print(b)\n",
    "print(len(b))"
   ]
  },
  {
   "cell_type": "code",
   "execution_count": 1,
   "id": "c9afb39a",
   "metadata": {},
   "outputs": [
    {
     "name": "stdout",
     "output_type": "stream",
     "text": [
      "9\n"
     ]
    }
   ],
   "source": [
    "a = [2*i for i in range(1, 10)]\n",
    "\n",
    "print(len(a))"
   ]
  },
  {
   "cell_type": "code",
   "execution_count": null,
   "id": "b57c98b2",
   "metadata": {},
   "outputs": [
    {
     "name": "stdout",
     "output_type": "stream",
     "text": [
      "-10\n",
      "-10\n"
     ]
    }
   ],
   "source": [
    "import math\n",
    "\n",
    "angle = -10\n",
    "print(angle)\n",
    "\n",
    "\n",
    "if angle < 0:\n",
    "    angle = -angle\n",
    "    sign = -1\n",
    "else:\n",
    "    sign = 1\n",
    "\n",
    "times = angle/360  #(2*math.pi)\n",
    "cor = math.floor(times)\n",
    "correction = cor*360  #*2*math.pi\n",
    "angle_out = angle - correction\n",
    "\n",
    "angle_out = sign*angle_out\n",
    "\n",
    "\n",
    "print(angle_out)"
   ]
  },
  {
   "cell_type": "code",
   "execution_count": 15,
   "id": "a2f63e13",
   "metadata": {},
   "outputs": [
    {
     "name": "stdout",
     "output_type": "stream",
     "text": [
      "350\n"
     ]
    }
   ],
   "source": [
    "angle = -370\n",
    "\n",
    "times = angle/360  #(2*math.pi)\n",
    "cor = math.floor(times)\n",
    "correction = cor*360  #*2*math.pi\n",
    "angle_out = angle - correction\n",
    "\n",
    "print(angle_out)"
   ]
  },
  {
   "cell_type": "code",
   "execution_count": 2,
   "id": "91ea6d9a",
   "metadata": {},
   "outputs": [
    {
     "name": "stdout",
     "output_type": "stream",
     "text": [
      "74.99887763321878\n"
     ]
    }
   ],
   "source": [
    "ang = 1.30897735\n",
    "\n",
    "ang_deg = (ang*180)/(math.pi)\n",
    "print(ang_deg)"
   ]
  },
  {
   "cell_type": "code",
   "execution_count": 1,
   "id": "f796f380",
   "metadata": {},
   "outputs": [
    {
     "name": "stdout",
     "output_type": "stream",
     "text": [
      "0.09773843811168245\n"
     ]
    }
   ],
   "source": [
    "import math\n",
    "r = 0.056/2\n",
    "deg_val = 200\n",
    "\n",
    "rad_val = (deg_val*math.pi)/180\n",
    "met = rad_val*r\n",
    "\n",
    "print(met)"
   ]
  },
  {
   "cell_type": "code",
   "execution_count": null,
   "id": "39acb060",
   "metadata": {},
   "outputs": [
    {
     "name": "stdout",
     "output_type": "stream",
     "text": [
      "[1 0 3 2]\n",
      "[1 2 3 4]\n",
      "[1.  0.  1.  0.5]\n",
      "\n",
      "[1 0 9 8]\n",
      "\n",
      "[1.41421356 4.24264069 1.41421356 4.24264069]\n"
     ]
    }
   ],
   "source": [
    "a = np.array([2, 1, 4, 3])\n",
    "b = np.array([3, 4, 5, 6])\n",
    "\n",
    "num = (a - 1)\n",
    "de = (b- 2)\n",
    "m = num / de\n",
    "\n",
    "\n",
    "print(num)\n",
    "print(de)\n",
    "print(m)\n",
    "print()\n",
    "print(de*num)\n",
    "print()\n",
    "dist = np.sqrt( (b-a)**2 + (b-a)**2)\n",
    "print(dist)"
   ]
  },
  {
   "cell_type": "code",
   "execution_count": null,
   "id": "dc9143ee",
   "metadata": {},
   "outputs": [],
   "source": [
    "import math\n",
    "\n",
    "# Circle\n",
    "r = 0\n",
    "\n",
    "# line\n",
    "x1, y1 = [0, 0]\n",
    "x2, y2 = [0, 0]\n",
    "\n",
    "dx = x2 - x1\n",
    "dy = y2 - y1\n",
    "dr = math.sqrt(dx**2 + dy**2)\n",
    "D = x1*y2 - x2*y1\n",
    "\n",
    "if dy >= 0 :\n",
    "    sign_val = 1\n",
    "else:\n",
    "    dy = -1\n",
    "\n",
    "delta = 0\n",
    "x1_inter = D*dy + sign_val*dy*dx*math.sqrt(0)\n"
   ]
  },
  {
   "cell_type": "code",
   "execution_count": 23,
   "id": "4e8c609f",
   "metadata": {},
   "outputs": [
    {
     "name": "stdout",
     "output_type": "stream",
     "text": [
      "0.7036882171021264\n",
      "[-0.5319110621355451, 0.1073802493584566, -0.6164015719190833, -0.4113204833941786]\n"
     ]
    }
   ],
   "source": [
    "import random\n",
    "\n",
    "mu = 0\n",
    "sigma = 0.5\n",
    "n = random.gauss(mu, sigma)\n",
    "\n",
    "\n",
    "print(n)\n",
    "print([random.gauss(mu, sigma) for i in range(0, 4)])"
   ]
  },
  {
   "cell_type": "code",
   "execution_count": 1,
   "id": "53d980b8",
   "metadata": {},
   "outputs": [
    {
     "data": {
      "text/plain": [
       "0"
      ]
     },
     "execution_count": 1,
     "metadata": {},
     "output_type": "execute_result"
    }
   ],
   "source": [
    "max(-1, 0)"
   ]
  },
  {
   "cell_type": "code",
   "execution_count": 3,
   "id": "dfac2139",
   "metadata": {},
   "outputs": [
    {
     "name": "stdout",
     "output_type": "stream",
     "text": [
      "[1 2 3 4]\n"
     ]
    }
   ],
   "source": [
    "a = [[1, 2], [3, 4]]\n",
    "b = np.array(a)\n",
    "c = np.flip(c)\n",
    "\n",
    "print(c)"
   ]
  },
  {
   "cell_type": "code",
   "execution_count": 8,
   "id": "9741bdbc",
   "metadata": {},
   "outputs": [
    {
     "name": "stdout",
     "output_type": "stream",
     "text": [
      "-1\n"
     ]
    }
   ],
   "source": [
    "b = 5+10 < 10\n",
    "if b == 0 :\n",
    "    b = (-1)\n",
    "\n",
    "print(b)"
   ]
  },
  {
   "cell_type": "code",
   "execution_count": 27,
   "id": "b3ebed08",
   "metadata": {},
   "outputs": [
    {
     "name": "stdout",
     "output_type": "stream",
     "text": [
      "3\n",
      "x =  [3 5 1 2 8 9]\n",
      "x sorted =  [1 2 3 5 8 9]\n",
      "Idxs =  [2, 3]\n",
      "6\n",
      "6\n"
     ]
    }
   ],
   "source": [
    "a = np.array([1, 2, 8, 9])\n",
    "b = [(3, 4), (5, 6), (10, 20)]\n",
    "#b = [(10, 20)]\n",
    "\n",
    "b_x = []\n",
    "for i in range(0, len(b)-1) :\n",
    "    b_x.append( b[i][0] )\n",
    "\n",
    "x = np.insert(a, 0, b_x)\n",
    "x_sorted = np.sort(x)\n",
    "\n",
    "idx_xs = []\n",
    "for xi in b_x :\n",
    "    idx_xs.append( np.argwhere(x_sorted == xi).item() )\n",
    "\n",
    "print(len(b))\n",
    "print(\"x = \", x)\n",
    "print(\"x sorted = \", x_sorted)\n",
    "print(\"Idxs = \", idx_xs)\n",
    "print(x_sorted.shape[0])\n",
    "print(len(x_sorted))"
   ]
  },
  {
   "cell_type": "code",
   "execution_count": 28,
   "id": "1353f6c0",
   "metadata": {},
   "outputs": [
    {
     "name": "stdout",
     "output_type": "stream",
     "text": [
      "0 1\n",
      "1 2\n",
      "2 8\n",
      "3 9\n"
     ]
    }
   ],
   "source": [
    "a = np.array([1, 2, 8, 9])\n",
    "for i, x in enumerate(a) :\n",
    "    print(i, x)"
   ]
  },
  {
   "cell_type": "code",
   "execution_count": 30,
   "id": "608e8d9c",
   "metadata": {},
   "outputs": [
    {
     "name": "stdout",
     "output_type": "stream",
     "text": [
      "[[0. 0. 0.]\n",
      " [0. 0. 0.]\n",
      " [0. 0. 0.]]\n",
      "\n",
      "[[1. 2. 8.]\n",
      " [1. 2. 8.]\n",
      " [1. 2. 8.]]\n"
     ]
    }
   ],
   "source": [
    "a = np.array([1, 2, 8])\n",
    "b = np.zeros((3,3))\n",
    "\n",
    "print(b)\n",
    "print()\n",
    "b[:] = a\n",
    "print(b)"
   ]
  },
  {
   "cell_type": "code",
   "execution_count": 36,
   "id": "12476a81",
   "metadata": {},
   "outputs": [
    {
     "name": "stdout",
     "output_type": "stream",
     "text": [
      "[[1 2 8]\n",
      " [3 4 5]]\n",
      "(2, 3)\n",
      "\n",
      "len a =  2\n",
      "len a =  [(1, 2), (3, 4)]\n",
      "[(1, 2), (3, 4)]\n",
      "[(5, 6)]\n"
     ]
    }
   ],
   "source": [
    "a = np.array([1, 2, 8])\n",
    "b = np.array([3, 4, 5])\n",
    "\n",
    "\n",
    "c = np.stack((a, b))\n",
    "\n",
    "print(c)\n",
    "print(c.shape)\n",
    "print()\n",
    "\n",
    "a = [ [(1, 2), (3, 4)], [(5, 6)] ]\n",
    "\n",
    "print(\"len a = \", len(a))\n",
    "print(\"len a = \", a[0])\n",
    "for t in a:\n",
    "    print(t)"
   ]
  },
  {
   "cell_type": "code",
   "execution_count": 48,
   "id": "326fd49e",
   "metadata": {},
   "outputs": [
    {
     "name": "stdout",
     "output_type": "stream",
     "text": [
      "2\n",
      "[[ 2  4 16]\n",
      " [ 6  8 10]]\n",
      "[3.16227766 4.47213595 9.43398113]\n",
      "\n",
      "[1.41421356 6.08276253]\n",
      "7.496976092671314\n"
     ]
    }
   ],
   "source": [
    "a = np.array([1, 2, 8])\n",
    "b = np.array([3, 4, 5])\n",
    "\n",
    "c = np.stack((a, b))\n",
    "\n",
    "l = []\n",
    "l.append(c)\n",
    "\n",
    "d = np.stack((a*2, b*2))\n",
    "l.append(d)\n",
    "\n",
    "print(len(l))\n",
    "print(l[1])\n",
    "\n",
    "dist = np.linalg.norm(c, axis=0)\n",
    "print(dist)\n",
    "print()\n",
    "\n",
    "c = np.stack((a[1:] - a[:-1], b[1:] - b[:-1]))\n",
    "dist = np.linalg.norm(c, axis=0)\n",
    "print(dist)\n",
    "print(np.sum(dist))\n"
   ]
  },
  {
   "cell_type": "code",
   "execution_count": null,
   "id": "e9a4f6d0",
   "metadata": {},
   "outputs": [
    {
     "name": "stdout",
     "output_type": "stream",
     "text": [
      "[[1 2 8]\n",
      " [3 4 5]]\n",
      "\n",
      "[[1 3]\n",
      " [2 4]\n",
      " [8 5]]\n",
      "(3, 2)\n",
      "[1 3]\n",
      "\n",
      "1\n"
     ]
    }
   ],
   "source": [
    "a = [1, 2, 8]\n",
    "b = [3, 4, 5]\n",
    "\n",
    "c = np.stack( (a, b) )\n",
    "print(c)\n",
    "print()\n",
    "d  = np.transpose(c)\n",
    "print(d)\n",
    "print(d.shape)\n",
    "print(d[0])\n",
    "print()\n",
    "print(np.argmax(d[0]))"
   ]
  },
  {
   "cell_type": "code",
   "execution_count": 59,
   "id": "d34bc262",
   "metadata": {},
   "outputs": [
    {
     "name": "stdout",
     "output_type": "stream",
     "text": [
      "[[2 8]\n",
      " [4 5]]\n",
      "\n",
      "[0]\n",
      "\n",
      "2\n",
      "1\n"
     ]
    }
   ],
   "source": [
    "a = np.array([[1, 2, 8],  [3, 4, 5]])\n",
    "\n",
    "b = np.delete(a, 0, axis=1)\n",
    "print(b)\n",
    "\n",
    "print()\n",
    "num = np.where(a == 2)\n",
    "print(num[0])\n",
    "\n",
    "val = a[0,:] == 2\n",
    "val_idx = np.argmax(val)\n",
    "\n",
    "print()\n",
    "print(a[0, val_idx])\n",
    "print(val_idx)"
   ]
  },
  {
   "cell_type": "code",
   "execution_count": 60,
   "id": "9e3f0f26",
   "metadata": {},
   "outputs": [
    {
     "name": "stdout",
     "output_type": "stream",
     "text": [
      "(1,)\n"
     ]
    },
    {
     "ename": "IndexError",
     "evalue": "too many indices for array: array is 1-dimensional, but 2 were indexed",
     "output_type": "error",
     "traceback": [
      "\u001b[0;31m---------------------------------------------------------------------------\u001b[0m",
      "\u001b[0;31mIndexError\u001b[0m                                Traceback (most recent call last)",
      "Cell \u001b[0;32mIn[60], line 4\u001b[0m\n\u001b[1;32m      1\u001b[0m a \u001b[38;5;241m=\u001b[39m np\u001b[38;5;241m.\u001b[39marray([\u001b[38;5;241m1\u001b[39m])\n\u001b[1;32m      3\u001b[0m \u001b[38;5;28mprint\u001b[39m(a\u001b[38;5;241m.\u001b[39mshape)\n\u001b[0;32m----> 4\u001b[0m \u001b[38;5;28mprint\u001b[39m(\u001b[43ma\u001b[49m\u001b[43m[\u001b[49m\u001b[38;5;241;43m0\u001b[39;49m\u001b[43m,\u001b[49m\u001b[43m \u001b[49m\u001b[38;5;241;43m0\u001b[39;49m\u001b[43m]\u001b[49m)\n",
      "\u001b[0;31mIndexError\u001b[0m: too many indices for array: array is 1-dimensional, but 2 were indexed"
     ]
    }
   ],
   "source": [
    "a = np.array([1])\n",
    "\n",
    "print(a.shape)\n",
    "print(a[0, 0])\n"
   ]
  },
  {
   "cell_type": "code",
   "execution_count": 66,
   "id": "4d2044e0",
   "metadata": {},
   "outputs": [
    {
     "name": "stdout",
     "output_type": "stream",
     "text": [
      "(2, 3)\n",
      "[1 2 8]\n",
      "\n",
      "\n",
      "[1 1 1]\n",
      "1\n"
     ]
    }
   ],
   "source": [
    "a = np.array([[1, 2, 8],  [3, 4, 5]])\n",
    "# a = np.array([1, 1, 2, 8])\n",
    "\n",
    "# au, indeces, counts = np.unique(a, return_inverse=True, return_counts=True, axis=0)\n",
    "# au, indeces, counts = np.unique(a, return_inverse=True, return_counts=True)\n",
    "au, counts = np.unique(a[0, :], return_counts=True)\n",
    "\n",
    "print(a.shape)\n",
    "print(au)\n",
    "print()\n",
    "# print(indeces)\n",
    "print()\n",
    "print(counts)\n",
    "print(np.max(counts))"
   ]
  },
  {
   "cell_type": "code",
   "execution_count": 71,
   "id": "4287d78e",
   "metadata": {},
   "outputs": [
    {
     "name": "stdout",
     "output_type": "stream",
     "text": [
      "[1 2 6]\n",
      "[[1 2 6]]\n",
      "\n",
      "[[1]\n",
      " [1]\n",
      " [2]]\n",
      "[[1 2 3]\n",
      " [1 2 3]\n",
      " [2 4 6]]\n",
      "\n",
      "[1 1 2]\n",
      "[1 2 6]\n"
     ]
    }
   ],
   "source": [
    "l = [1, 2, 3]\n",
    "a = np.array([1, 1, 2])\n",
    "print(l*a)\n",
    "\n",
    "b = a.reshape( (1, 3) )\n",
    "print(l*b)\n",
    "print()\n",
    "\n",
    "c = a.reshape( (3, 1) )\n",
    "print(c)\n",
    "print(l*c)\n",
    "print()\n",
    "\n",
    "d = np.squeeze(c)\n",
    "print(d)\n",
    "print(l*d)"
   ]
  },
  {
   "cell_type": "code",
   "execution_count": 6,
   "id": "20967c7b",
   "metadata": {},
   "outputs": [
    {
     "name": "stdout",
     "output_type": "stream",
     "text": [
      "1\n"
     ]
    }
   ],
   "source": [
    "a = np.array([1, 1, 2])\n",
    "\n",
    "i = 1\n",
    "print(a[i])"
   ]
  },
  {
   "cell_type": "code",
   "execution_count": 24,
   "id": "cd50229c",
   "metadata": {},
   "outputs": [
    {
     "name": "stdout",
     "output_type": "stream",
     "text": [
      "[[1 1 8]\n",
      " [3 3 5]]\n",
      "3\n",
      "[[0 0 2]]\n",
      "(1, 3)\n",
      "[[1 1 8]\n",
      " [3 3 5]]\n",
      "\n",
      "[[[1 1 8]\n",
      "  [2 2 1]]\n",
      "\n",
      " [[3 3 5]\n",
      "  [4 4 3]]]\n",
      "last\n",
      "[1 1 8]\n"
     ]
    }
   ],
   "source": [
    "a = np.array([[1, 2, 8],  [3, 4, 5]])\n",
    "idxs = np.array([0, 0, 2])\n",
    "\n",
    "b = a[:, idxs]\n",
    "print(b)\n",
    "sh = idxs.shape\n",
    "print(sh[0])\n",
    "id = idxs.reshape(1, sh[0])\n",
    "print(id)\n",
    "print(id.shape)\n",
    "print(a[:, id[0, :]])\n",
    "print()\n",
    "\n",
    "idxs = np.array([[0, 0, 2], [1, 1, 0]])\n",
    "b = a[:, idxs[:]]\n",
    "print(b)\n",
    "\n",
    "print(\"last\")\n",
    "idxs = np.array([[0, 0, 2], [1, 1, 0]])\n",
    "b = a[0, idxs[0, :]]\n",
    "print(b)\n"
   ]
  },
  {
   "cell_type": "code",
   "execution_count": 40,
   "id": "61d63314",
   "metadata": {},
   "outputs": [
    {
     "name": "stdout",
     "output_type": "stream",
     "text": [
      "(1, 3)\n",
      "\n",
      "Iter  0\n",
      "r_i  [1]\n",
      "[[1 0 0]]\n",
      "\n",
      "Iter  1\n",
      "r_i  [3]\n",
      "[[1 3 0]]\n",
      "\n",
      "Iter  2\n",
      "r_i  [8]\n",
      "[[1 3 8]]\n",
      "\n",
      "rsult \n",
      "[12]\n"
     ]
    }
   ],
   "source": [
    "matrix = np.array([[1, 2, 8],  [3, 4, 5], [6, 7, 8]])\n",
    "\n",
    "id_list = np.array([[0, 0, 1],  [1, 1, 2], [2, 2, 2]])\n",
    "# One row\n",
    "id_list = np.array([0, 0, 2])\n",
    "id_list = id_list.reshape(1, sh[0])\n",
    "\n",
    "print(id_list.shape)\n",
    "\n",
    "c = np.zeros_like(id_list)\n",
    "for i in range(0, matrix.shape[0]):\n",
    "\n",
    "    print()\n",
    "    print(\"Iter \", i)\n",
    "    r_i = matrix[i, id_list[:, i]]\n",
    "    print(\"r_i \", r_i)\n",
    "\n",
    "    c[:, i] = r_i\n",
    "    print(c)\n",
    "\n",
    "print()    \n",
    "print(\"rsult \")\n",
    "print(np.sum(c, axis=1))"
   ]
  },
  {
   "cell_type": "code",
   "execution_count": 57,
   "id": "18df231e",
   "metadata": {},
   "outputs": [
    {
     "name": "stdout",
     "output_type": "stream",
     "text": [
      "[0 1 2] (3,)\n",
      "[[0. 1. 2.]\n",
      " [0. 1. 2.]\n",
      " [0. 1. 2.]] (3, 3)\n",
      "\n",
      "[[0. 1. 2.]\n",
      " [2. 0. 1.]\n",
      " [1. 2. 0.]]\n"
     ]
    }
   ],
   "source": [
    "a = np.arange(3)\n",
    "# a = np.array([10, 20, 30])\n",
    "print(a, a.shape)\n",
    "\n",
    "# b = np.zeros((3, a.shape[0]), dtype=np.int8)\n",
    "b = np.zeros((3, a.shape[0]))\n",
    "b[:] = a\n",
    "\n",
    "print(b, b.shape)\n",
    "# print(b[0, :])\n",
    "print()\n",
    "\n",
    "rng = np.random.default_rng()\n",
    "# np.random.shuffle(b)\n",
    "# c = np.random.Generator.permuted(b, axis=1)  # Don't work\n",
    "\n",
    "c = rng.permuted(b, axis=1)\n",
    "print(c)"
   ]
  },
  {
   "cell_type": "code",
   "execution_count": 55,
   "id": "2a0022ec",
   "metadata": {},
   "outputs": [
    {
     "name": "stdout",
     "output_type": "stream",
     "text": [
      "[[23  1  0  4  7  6 22  9]\n",
      " [ 8  3 19 12  2 21 16 14]\n",
      " [15  5 18 11 13 10 17 20]]\n"
     ]
    }
   ],
   "source": [
    "rng = np.random.default_rng()\n",
    "\n",
    "x = np.arange(24).reshape(3, 8)\n",
    "# y = np.random.Generator.permuted(x)\n",
    "y = rng.permuted(x)\n",
    "\n",
    "print(y)"
   ]
  },
  {
   "cell_type": "code",
   "execution_count": 10,
   "id": "9c48119b",
   "metadata": {},
   "outputs": [
    {
     "name": "stdout",
     "output_type": "stream",
     "text": [
      "Before shuffle: [10 20 30 40 50] (5,)\n",
      "After shuffle: [20 30 40 10 50]\n"
     ]
    }
   ],
   "source": [
    "\n",
    "# Shuffling a 1D array\n",
    "arr = np.array([10, 20, 30, 40, 50])\n",
    "print(\"Before shuffle:\", arr, arr.shape)\n",
    "\n",
    "np.random.shuffle(arr)\n",
    "print(\"After shuffle:\", arr)"
   ]
  },
  {
   "cell_type": "code",
   "execution_count": 13,
   "id": "7233682f",
   "metadata": {},
   "outputs": [
    {
     "name": "stdout",
     "output_type": "stream",
     "text": [
      "Before shuffle:\n",
      "[[1 2]\n",
      " [3 4]\n",
      " [5 6]] (3, 2)\n",
      "After shuffle:\n",
      "[[1 2]\n",
      " [5 6]\n",
      " [3 4]]\n"
     ]
    }
   ],
   "source": [
    "# Shuffling rows of a 2D array\n",
    "arr_2d = np.array([[1, 2], [3, 4], [5, 6]])\n",
    "print(\"Before shuffle:\")\n",
    "print(arr_2d, arr_2d.shape)\n",
    "\n",
    "np.random.shuffle(arr_2d)\n",
    "print(\"After shuffle:\")\n",
    "print(arr_2d)"
   ]
  },
  {
   "cell_type": "code",
   "execution_count": 59,
   "id": "806977bf",
   "metadata": {},
   "outputs": [
    {
     "name": "stdout",
     "output_type": "stream",
     "text": [
      "[0. 1. 3.]\n",
      "\n",
      "[0.5 1.3 2. ]\n"
     ]
    }
   ],
   "source": [
    "idxs = np.array([0.5, 1.3, 2.56])\n",
    "\n",
    "dec = np.round(idxs)\n",
    "print(dec)\n",
    "\n",
    "cl = np.clip(idxs, a_min=0, a_max=2)\n",
    "print()\n",
    "print(cl)"
   ]
  },
  {
   "cell_type": "code",
   "execution_count": 1,
   "id": "f932f38f",
   "metadata": {},
   "outputs": [],
   "source": [
    "import numpy as np"
   ]
  },
  {
   "cell_type": "code",
   "execution_count": 9,
   "id": "4ac165a9",
   "metadata": {},
   "outputs": [
    {
     "name": "stdout",
     "output_type": "stream",
     "text": [
      "[[[0.]\n",
      "  [0.]\n",
      "  [0.]]\n",
      "\n",
      " [[1.]\n",
      "  [2.]\n",
      "  [3.]]] (2, 3, 1)\n",
      "3.0\n"
     ]
    }
   ],
   "source": [
    "state_storage = np.zeros((1, 3, 1))\n",
    "al = [1, 2, 3]\n",
    "\n",
    "a = np.array(al).reshape((1, 3, 1))\n",
    "state_storage = np.vstack((state_storage, a))\n",
    "print(state_storage, state_storage.shape)\n",
    "print(state_storage[1, 2, 0])"
   ]
  },
  {
   "cell_type": "code",
   "execution_count": 20,
   "id": "9101cfaa",
   "metadata": {},
   "outputs": [
    {
     "name": "stdout",
     "output_type": "stream",
     "text": [
      "[[[[0. 0. 0.]]\n",
      "\n",
      "  [[1. 2. 3.]]]] (1, 2, 1, 3)\n",
      "Stack\n",
      "[[[[0. 0. 0.]]\n",
      "\n",
      "  [[1. 2. 3.]]]\n",
      "\n",
      "\n",
      " [[[0. 0. 0.]]\n",
      "\n",
      "  [[1. 2. 3.]]]]\n",
      "(2, 2, 1, 3)\n"
     ]
    }
   ],
   "source": [
    "state_storage = np.zeros((1, 2, 1, 3))\n",
    "al = [1, 2, 3]\n",
    "\n",
    "a = np.array(al).reshape((1, 1, 1, 3))\n",
    "state_storage[0, 1,:, :] = al\n",
    "print(state_storage, state_storage.shape)\n",
    "\n",
    "\n",
    "print(\"Stack\")\n",
    "state_storage = np.vstack((state_storage, np.expand_dims(state_storage[0, :,:,:], axis=0) ))\n",
    "\n",
    "print(state_storage)\n",
    "print(state_storage.shape)"
   ]
  },
  {
   "cell_type": "code",
   "execution_count": 24,
   "id": "6f9b2125",
   "metadata": {},
   "outputs": [
    {
     "name": "stdout",
     "output_type": "stream",
     "text": [
      "[[[0. 0. 0.]\n",
      "  [1. 2. 3.]]] (1, 2, 3)\n",
      "Stack\n",
      "[[[0. 0. 0.]\n",
      "  [1. 2. 3.]]\n",
      "\n",
      " [[0. 0. 0.]\n",
      "  [1. 2. 3.]]]\n",
      "(2, 2, 3)\n",
      "\n",
      "[1. 2. 3.]\n",
      "2.0\n",
      "2.0\n"
     ]
    }
   ],
   "source": [
    "state_storage = np.zeros((1, 2, 3))\n",
    "al = [1, 2, 3]\n",
    "\n",
    "a = np.array(al).reshape((1, 1, 3))\n",
    "state_storage[0, 1, :] = al\n",
    "print(state_storage, state_storage.shape)\n",
    "\n",
    "\n",
    "print(\"Stack\")\n",
    "state_storage = np.vstack((state_storage, np.expand_dims(state_storage[0, :, :], axis=0) ))\n",
    "\n",
    "print(state_storage)\n",
    "print(state_storage.shape)\n",
    "print()\n",
    "print(state_storage[1, 1,:])\n",
    "print(state_storage[1, 1,:][1])\n",
    "print(state_storage[1, 1,1])"
   ]
  },
  {
   "cell_type": "code",
   "execution_count": 2,
   "id": "d1128003",
   "metadata": {},
   "outputs": [
    {
     "name": "stdout",
     "output_type": "stream",
     "text": [
      "[[1, 1], [2, 2], [3, 3], [4, 4], [5, 5]]\n"
     ]
    }
   ],
   "source": [
    "route_list = [([1, 2, 3, 4, 5], [1, 2, 3, 4, 5]), ([6, 7, 8, 9, 10], [6, 7, 8, 9, 10])]\n",
    "\n",
    "route = route_list[0]\n",
    "track = [[route[0][i], route[1][i]] for i in range(0, len(route[0]))]\n",
    "\n",
    "print(track)"
   ]
  },
  {
   "cell_type": "code",
   "execution_count": 3,
   "id": "8049016f",
   "metadata": {},
   "outputs": [
    {
     "name": "stdout",
     "output_type": "stream",
     "text": [
      "[[1, 2], [3, 4]]\n",
      "[[5, 6], [3, 4]]\n"
     ]
    }
   ],
   "source": [
    "l = [[1, 2], [3, 4]]\n",
    "\n",
    "print(l)\n",
    "l[0] = [5, 6]\n",
    "print(l)"
   ]
  },
  {
   "cell_type": "code",
   "execution_count": null,
   "id": "ab1c782b",
   "metadata": {},
   "outputs": [
    {
     "name": "stdout",
     "output_type": "stream",
     "text": [
      "[[0.29101145]\n",
      " [0.40497107]\n",
      " [0.95126167]\n",
      " [0.52039771]\n",
      " [0.31246202]]\n"
     ]
    }
   ],
   "source": [
    "a = np.random.rand(5, 1)\n",
    "\n",
    "print(a)"
   ]
  },
  {
   "cell_type": "code",
   "execution_count": 5,
   "id": "ae96265e",
   "metadata": {},
   "outputs": [
    {
     "name": "stdout",
     "output_type": "stream",
     "text": [
      "1 2 3\n",
      "4 3 1 2 3\n"
     ]
    }
   ],
   "source": [
    "a, b, c = [1, 2, 3]\n",
    "d = [4, 3]\n",
    "print(a, b, c)\n",
    "\n",
    "a, b, c, m, n = d + [1, 2, 3]\n",
    "print(a, b, c, m, n)"
   ]
  },
  {
   "cell_type": "code",
   "execution_count": 8,
   "id": "f1c795ce",
   "metadata": {},
   "outputs": [
    {
     "name": "stdout",
     "output_type": "stream",
     "text": [
      "#696969\n"
     ]
    }
   ],
   "source": [
    "import matplotlib.colors as mcolors\n",
    "\n",
    "print(mcolors.CSS4_COLORS['dimgray'])"
   ]
  },
  {
   "cell_type": "code",
   "execution_count": 11,
   "id": "ed14a478",
   "metadata": {},
   "outputs": [
    {
     "name": "stdout",
     "output_type": "stream",
     "text": [
      "[0, 0, 0]\n"
     ]
    }
   ],
   "source": [
    "b = [0 for i in range(0, 3)]\n",
    "\n",
    "print(b)"
   ]
  },
  {
   "cell_type": "code",
   "execution_count": 20,
   "id": "2a526572",
   "metadata": {},
   "outputs": [
    {
     "name": "stdout",
     "output_type": "stream",
     "text": [
      "[0 0 1 2]\n",
      "\n",
      "[0 0 1 2 1 2]\n",
      "\n",
      "[0 0 1 2 1 2 1 2]\n",
      "\n"
     ]
    }
   ],
   "source": [
    "a = np.array([1, 2]).reshape((2,1))\n",
    "b = np.array([0, 0]).reshape((2,1))\n",
    "\n",
    "for i in range(0, 3):\n",
    "    b = np.append(b, a)\n",
    "    print(b)\n",
    "    print()"
   ]
  },
  {
   "cell_type": "code",
   "execution_count": 30,
   "id": "4f6734f5",
   "metadata": {},
   "outputs": [
    {
     "name": "stdout",
     "output_type": "stream",
     "text": [
      "[[0 1]\n",
      " [0 2]] (2, 2)\n",
      "\n",
      "[[0 1 1]\n",
      " [0 2 2]] (2, 3)\n",
      "\n",
      "[[0 1 1 1]\n",
      " [0 2 2 2]] (2, 4)\n",
      "\n"
     ]
    }
   ],
   "source": [
    "a = np.array([1, 2]).reshape((2,1))\n",
    "b = np.array([0, 0]).reshape((2,1))\n",
    "\n",
    "for i in range(0, 3):\n",
    "    b = np.hstack((b, a))\n",
    "    print(b, b.shape)\n",
    "    print()"
   ]
  },
  {
   "cell_type": "code",
   "execution_count": 32,
   "id": "ac90de13",
   "metadata": {},
   "outputs": [
    {
     "name": "stdout",
     "output_type": "stream",
     "text": [
      "[False  True False]\n",
      "1\n"
     ]
    }
   ],
   "source": [
    "matrix = np.array([[1, 2, 8],  [3, 4, 5], [6, 7, 8]])\n",
    "\n",
    "mask = matrix[1, :] == 4\n",
    "print(mask)\n",
    "print(np.argmax(mask))"
   ]
  },
  {
   "cell_type": "code",
   "execution_count": 6,
   "id": "3d1a2331",
   "metadata": {},
   "outputs": [
    {
     "name": "stdout",
     "output_type": "stream",
     "text": [
      "[False False  True False False False  True False]\n",
      "(8,)\n",
      "\n",
      "2\n"
     ]
    }
   ],
   "source": [
    "a = np.array([1, 2, 2.9, 3, 4, 5, 5.9, 6])\n",
    "b = np.array([2.9, 5.9])\n",
    "\n",
    "mask_1 = np.isin(a, b)\n",
    "print(mask_1)\n",
    "print(mask_1.shape)\n",
    "print()\n",
    "max_1 = np.argmax(mask_1)\n",
    "print(max_1)\n",
    "\n"
   ]
  },
  {
   "cell_type": "code",
   "execution_count": 1,
   "id": "ea01d2e7",
   "metadata": {},
   "outputs": [],
   "source": [
    "import numpy as np\n",
    "import math"
   ]
  },
  {
   "cell_type": "code",
   "execution_count": 15,
   "id": "88b05733",
   "metadata": {},
   "outputs": [
    {
     "name": "stdout",
     "output_type": "stream",
     "text": [
      "[3, 4, 5]\n",
      "2\n"
     ]
    }
   ],
   "source": [
    "a = [i for i in range(3,6)]\n",
    "print(a)\n",
    "print(math.floor(2.5))"
   ]
  },
  {
   "cell_type": "code",
   "execution_count": 9,
   "id": "df6ed543",
   "metadata": {},
   "outputs": [
    {
     "name": "stdout",
     "output_type": "stream",
     "text": [
      "[[1, 2], [3, 4], [10, 20], [30, 40], [5, 6], [7, 8]]\n",
      "[10, 20]\n",
      "[7, 8]\n",
      "[5, 6]\n"
     ]
    }
   ],
   "source": [
    "a = [[1, 2], [3, 4], [5, 6], [7, 8]]\n",
    "b = [[10, 20], [30, 40]]\n",
    "\n",
    "i = 1\n",
    "a_init = a[:i+1]\n",
    "a_end = a[i+1:]\n",
    "\n",
    "c = a_init + b + a_end\n",
    "\n",
    "print(c)\n",
    "print(c[i+1])\n",
    "print(c[-1])\n",
    "print(c[-2])\n",
    "\n"
   ]
  },
  {
   "cell_type": "code",
   "execution_count": 13,
   "id": "270c5c99",
   "metadata": {},
   "outputs": [
    {
     "name": "stdout",
     "output_type": "stream",
     "text": [
      "8\n",
      "[10, 20, 30, 40, 60, 70, 80]\n",
      "7\n",
      "[10, 20, 30]\n",
      "[40, 60, 70, 80]\n",
      "\n",
      "5\n",
      "2\n",
      "70\n"
     ]
    }
   ],
   "source": [
    "b = [10, 20, 30, 40, 50, 60, 70, 80]\n",
    "\n",
    "print(len(b))\n",
    "# b.pop(2)\n",
    "b.remove(50)\n",
    "print(b)\n",
    "print(len(b))\n",
    "print(b[:3])\n",
    "print(b[3:])\n",
    "print()\n",
    "\n",
    "i = 2\n",
    "i_new = i + 3 \n",
    "print(i_new)\n",
    "print(i)\n",
    "print(b[i_new])\n"
   ]
  },
  {
   "cell_type": "code",
   "execution_count": 14,
   "id": "4d2a6be5",
   "metadata": {},
   "outputs": [
    {
     "name": "stdout",
     "output_type": "stream",
     "text": [
      "[[10, 20], [50, 60], [70, 80]]\n"
     ]
    }
   ],
   "source": [
    "b = [[10, 20], [30, 40], [50, 60], [70, 80]]\n",
    "\n",
    "b.remove([30, 40])\n",
    "print(b)"
   ]
  },
  {
   "cell_type": "code",
   "execution_count": 1,
   "id": "cba6dd8a",
   "metadata": {},
   "outputs": [],
   "source": [
    "import numpy as np\n",
    "import math"
   ]
  },
  {
   "cell_type": "code",
   "execution_count": 19,
   "id": "36576cb6",
   "metadata": {},
   "outputs": [
    {
     "name": "stdout",
     "output_type": "stream",
     "text": [
      "[340. 316. 292. 268. 244.]\n",
      "[ 0.93969262  0.7193398   0.37460659 -0.0348995  -0.43837115]\n",
      "[-0.34202014 -0.69465837 -0.92718385 -0.99939083 -0.89879405]\n"
     ]
    }
   ],
   "source": [
    "state = math.radians(280)\n",
    "angle_range = math.radians(60)\n",
    "num_rays = 5\n",
    "\n",
    "start_angle = state + angle_range\n",
    "finish_angle = state - angle_range\n",
    "angles = np.linspace(start_angle, finish_angle, num_rays, False)    \n",
    "\n",
    "# Sensor Projection\n",
    "cos_angles = np.cos(angles)\n",
    "sin_angles = np.sin(angles)\n",
    "\n",
    "print(np.degrees(angles))\n",
    "print(cos_angles)\n",
    "print(sin_angles)"
   ]
  },
  {
   "cell_type": "code",
   "execution_count": 2,
   "id": "de2d551d",
   "metadata": {},
   "outputs": [
    {
     "name": "stdout",
     "output_type": "stream",
     "text": [
      "[15, 10]\n"
     ]
    }
   ],
   "source": [
    "len([])\n",
    "\n",
    "print([15, 10])"
   ]
  },
  {
   "cell_type": "code",
   "execution_count": 14,
   "id": "4576b9de",
   "metadata": {},
   "outputs": [
    {
     "name": "stdout",
     "output_type": "stream",
     "text": [
      "(4, 2)\n",
      "[[1 2]\n",
      " [3 4]]\n",
      "[1 3] [2 4]\n",
      "[False  True]\n",
      "[False  True]\n",
      "[False False]\n",
      "1\n",
      "\n",
      "0\n"
     ]
    }
   ],
   "source": [
    "a = np.array([[1, 2], [3, 4], [5, 6], [7, 8]])\n",
    "\n",
    "print(a.shape)\n",
    "print(a[:2])\n",
    "print(a[:2][:, 0], a[:2][:, 1])\n",
    "print(a[:2][:, 0] == 3)\n",
    "print((a[:2][:, 0] == 3) * (a[:2][:, 1] == 4))\n",
    "print((a[:2][:, 0] == 3) * (a[:2][:, 1] == 2))\n",
    "print(np.min(a))\n",
    "\n",
    "print()\n",
    "mat = (a[:2][:, 0] == 3) * (a[:2][:, 1] == 2)\n",
    "print(np.sum(mat))"
   ]
  },
  {
   "cell_type": "code",
   "execution_count": 16,
   "id": "740f799a",
   "metadata": {},
   "outputs": [
    {
     "data": {
      "text/plain": [
       "True"
      ]
     },
     "execution_count": 16,
     "metadata": {},
     "output_type": "execute_result"
    }
   ],
   "source": [
    "not(1) == 0"
   ]
  },
  {
   "cell_type": "code",
   "execution_count": 3,
   "id": "8ddbd628",
   "metadata": {},
   "outputs": [
    {
     "name": "stdout",
     "output_type": "stream",
     "text": [
      "[1, 2]\n"
     ]
    }
   ],
   "source": [
    "a = [1, 2, 3, 4]\n",
    "\n",
    "print(a[:1+1])"
   ]
  },
  {
   "cell_type": "code",
   "execution_count": 2,
   "id": "6a85d35c",
   "metadata": {},
   "outputs": [
    {
     "name": "stdout",
     "output_type": "stream",
     "text": [
      "[False False]\n"
     ]
    }
   ],
   "source": [
    "b = np.array([1, 2, 3, 4])\n",
    "\n",
    "print(b[:2] < 1)"
   ]
  },
  {
   "cell_type": "code",
   "execution_count": 1,
   "id": "13287538",
   "metadata": {},
   "outputs": [],
   "source": [
    "import numpy as np"
   ]
  },
  {
   "cell_type": "code",
   "execution_count": 11,
   "id": "0e8a2a2e",
   "metadata": {},
   "outputs": [
    {
     "name": "stdout",
     "output_type": "stream",
     "text": [
      "[[0. 0.]\n",
      " [0. 0.]\n",
      " [0. 0.]]\n",
      "\n",
      "(3, 2, 2)\n",
      "[[0. 0.]\n",
      " [0. 0.]\n",
      " [0. 0.]]\n",
      "\n",
      "[[1. 1.]\n",
      " [1. 1.]\n",
      " [1. 1.]]\n"
     ]
    }
   ],
   "source": [
    "a1 = np.zeros((3, 2))\n",
    "a2 = np.ones((3, 2))\n",
    "\n",
    "b = np.stack((a1, a2), axis=1)\n",
    "\n",
    "print(a1)\n",
    "print()\n",
    "print(b.shape)\n",
    "print(b[:, 0, :])\n",
    "print()\n",
    "print(b[:, 1, :])\n"
   ]
  },
  {
   "cell_type": "code",
   "execution_count": 17,
   "id": "e9f51cbd",
   "metadata": {},
   "outputs": [
    {
     "name": "stdout",
     "output_type": "stream",
     "text": [
      "[[0. 0. 0.]\n",
      " [1. 2. 3.]]\n",
      "2.0\n"
     ]
    }
   ],
   "source": [
    "a = np.zeros((2, 3))\n",
    "a[1] = [1, 2, 3]\n",
    "\n",
    "print(a)\n",
    "print(a[1,1])"
   ]
  },
  {
   "cell_type": "code",
   "execution_count": 18,
   "id": "175f40d0",
   "metadata": {},
   "outputs": [
    {
     "name": "stdout",
     "output_type": "stream",
     "text": [
      "[1, 2, 0]\n"
     ]
    }
   ],
   "source": [
    "a = [1, 2]\n",
    "b = a + [0]\n",
    "print(b)"
   ]
  },
  {
   "cell_type": "code",
   "execution_count": 15,
   "id": "a8a28949",
   "metadata": {},
   "outputs": [
    {
     "name": "stdout",
     "output_type": "stream",
     "text": [
      "[[[0. 0.]]\n",
      "\n",
      " [[0. 0.]]\n",
      "\n",
      " [[0. 0.]]]\n",
      "\n",
      "(3, 2, 2)\n",
      "[[0. 0.]\n",
      " [0. 0.]\n",
      " [0. 0.]]\n",
      "\n",
      "[[1. 1.]\n",
      " [1. 1.]\n",
      " [1. 1.]]\n",
      "Print C \n",
      "(3, 3, 2) 3\n",
      "[[0. 0.]\n",
      " [0. 0.]\n",
      " [0. 0.]]\n"
     ]
    }
   ],
   "source": [
    "a1 = np.zeros((3, 1, 2))\n",
    "a2 = np.ones((3, 1, 2))\n",
    "\n",
    "b = np.hstack((a1, a2))\n",
    "c = np.hstack((b, a1))\n",
    "\n",
    "print(a1)\n",
    "print()\n",
    "print(b.shape)\n",
    "print(b[:, 0, :])\n",
    "print()\n",
    "print(b[:, 1, :])\n",
    "print(\"Print C \")\n",
    "print(c.shape, c.shape[0])\n",
    "print(c[:, 2, :])"
   ]
  },
  {
   "cell_type": "code",
   "execution_count": 6,
   "id": "0f1a7249",
   "metadata": {},
   "outputs": [],
   "source": [
    "import datetime\n",
    "import numpy as np"
   ]
  },
  {
   "cell_type": "code",
   "execution_count": 15,
   "id": "d37b5af6",
   "metadata": {},
   "outputs": [
    {
     "name": "stdout",
     "output_type": "stream",
     "text": [
      "ku, tu 0.0004 0.1\n",
      "kp, ki, kd  0.0002 0.00216\n"
     ]
    }
   ],
   "source": [
    "kp = 0.0002\n",
    "ku = kp/0.5\n",
    "tu = 0.1\n",
    "\n",
    "ki = 0.54*ku/tu\n",
    "\n",
    "print(\"ku, tu\", ku, tu)\n",
    "print(\"kp, ki, kd \", kp, ki)"
   ]
  },
  {
   "cell_type": "code",
   "execution_count": 18,
   "id": "bffa8f01",
   "metadata": {},
   "outputs": [
    {
     "name": "stdout",
     "output_type": "stream",
     "text": [
      "ku, tu 0.0001666666666666667 0.1\n",
      "kp, ki, kd  0.0001 0.002 1.25e-06\n"
     ]
    }
   ],
   "source": [
    "kp = 0.0001\n",
    "ku = kp/0.6\n",
    "tu = 0.1\n",
    "\n",
    "ki = 1.2*ku/tu\n",
    "kd = 3*ku*tu/40\n",
    "\n",
    "print(\"ku, tu\", ku, tu)\n",
    "print(\"kp, ki, kd \", kp, ki, kd)"
   ]
  },
  {
   "cell_type": "code",
   "execution_count": 7,
   "id": "3b49b95f",
   "metadata": {},
   "outputs": [
    {
     "name": "stdout",
     "output_type": "stream",
     "text": [
      "[0.    0.375 0.75  1.125 1.5  ]\n"
     ]
    }
   ],
   "source": [
    "x_fixed = np.linspace(0, 1.5, 5)\n",
    "\n",
    "print(x_fixed)"
   ]
  },
  {
   "cell_type": "code",
   "execution_count": 2,
   "id": "10ef4c79",
   "metadata": {},
   "outputs": [
    {
     "name": "stdout",
     "output_type": "stream",
     "text": [
      "2.0\n"
     ]
    }
   ],
   "source": [
    "a = 3\n",
    "b = 2\n",
    "time_1 = np.zeros((a, b, 1))\n",
    "\n",
    "for i in range(0, a):\n",
    "    for j in range(0, b):\n",
    "        time_1[i, j, 0] = 2\n",
    "\n",
    "print(np.mean(time_1))"
   ]
  },
  {
   "cell_type": "code",
   "execution_count": 21,
   "id": "0e1d205c",
   "metadata": {},
   "outputs": [
    {
     "name": "stdout",
     "output_type": "stream",
     "text": [
      "[  10   20 3000 4000]\n",
      "1.3962634015954636\n"
     ]
    }
   ],
   "source": [
    "b = np.array([1, 2, 3, 4])\n",
    "c = np.array([10, 20, 30, 40])\n",
    "\n",
    "d = np.where(b<3, c, c*100)\n",
    "\n",
    "print(d)\n",
    "print(math.radians(80))"
   ]
  },
  {
   "cell_type": "code",
   "execution_count": 17,
   "id": "10df2dbf",
   "metadata": {},
   "outputs": [
    {
     "name": "stdout",
     "output_type": "stream",
     "text": [
      "0.8646647167633873\n"
     ]
    }
   ],
   "source": [
    "a = -math.exp(-5*abs(0.4))+1\n",
    "\n",
    "print(a)"
   ]
  },
  {
   "cell_type": "code",
   "execution_count": 5,
   "id": "8a72b30b",
   "metadata": {},
   "outputs": [
    {
     "name": "stdout",
     "output_type": "stream",
     "text": [
      "1\n",
      "4\n",
      "[90.50441962140057, 66.50441964882458, 42.50441967624858, 18.504419703672582, -5.495580268903419]\n",
      "\n",
      "[-0.00880367  0.39867833  0.73722522  0.94829918  0.99540359]\n",
      "[ 0.99996125  0.91709083  0.67564708  0.31737781 -0.09576897]\n",
      "\n",
      "[-0.08803669  3.98678328  7.37225221  9.48299176  9.95403589]\n",
      "[ 9.99961247  9.1709083   6.75647078  3.17377808 -0.95768969]\n"
     ]
    }
   ],
   "source": [
    "import math\n",
    "import numpy as np\n",
    "\n",
    "print(abs(-1))\n",
    "print(2**2)\n",
    "\n",
    "a = [1.57960011,  1.16072109,  0.74184207,  0.32296305, -0.09591597]\n",
    "b = [math.degrees(i) for i in a]\n",
    "print(b)\n",
    "\n",
    "cos_angles = np.cos(a)\n",
    "sin_angles = np.sin(a)\n",
    "\n",
    "print()\n",
    "print(cos_angles)\n",
    "print(sin_angles)\n",
    "\n",
    "x = 0\n",
    "y = 0\n",
    "ray_length = 10\n",
    "rays_x = x + ray_length*cos_angles\n",
    "rays_y = y + ray_length*sin_angles\n",
    "\n",
    "print()\n",
    "print(rays_x)\n",
    "print(rays_y)"
   ]
  }
 ],
 "metadata": {
  "kernelspec": {
   "display_name": "base",
   "language": "python",
   "name": "python3"
  },
  "language_info": {
   "codemirror_mode": {
    "name": "ipython",
    "version": 3
   },
   "file_extension": ".py",
   "mimetype": "text/x-python",
   "name": "python",
   "nbconvert_exporter": "python",
   "pygments_lexer": "ipython3",
   "version": "3.9.20"
  }
 },
 "nbformat": 4,
 "nbformat_minor": 5
}
