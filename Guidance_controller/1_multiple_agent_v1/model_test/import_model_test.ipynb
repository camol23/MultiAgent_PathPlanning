{
 "cells": [
  {
   "cell_type": "markdown",
   "id": "7b4d6b9a",
   "metadata": {},
   "source": [
    "tg4 Agent doesn't consider the obstacle\n",
    "\n",
    "* Observations = [Xe Ye Th_e Th Vx Vy W guidline]\n",
    "  "
   ]
  },
  {
   "cell_type": "code",
   "execution_count": 1,
   "id": "4dc5918a",
   "metadata": {},
   "outputs": [
    {
     "name": "stderr",
     "output_type": "stream",
     "text": [
      "2025-04-23 18:17:04.643669: I tensorflow/core/platform/cpu_feature_guard.cc:210] This TensorFlow binary is optimized to use available CPU instructions in performance-critical operations.\n",
      "To enable the following instructions: AVX2 FMA, in other operations, rebuild TensorFlow with the appropriate compiler flags.\n"
     ]
    }
   ],
   "source": [
    "import tensorflow as tf\n",
    "import numpy as np\n",
    "\n",
    "import actor_tg4_tf\n",
    "model = actor_tg4_tf.load_model()"
   ]
  },
  {
   "cell_type": "code",
   "execution_count": 8,
   "id": "9125976c",
   "metadata": {},
   "outputs": [
    {
     "name": "stdout",
     "output_type": "stream",
     "text": [
      "observations\n",
      "[[0.30150272 0.1490471  0.69011544 0.3986848  0.50486046 0.4537815\n",
      "  0.20714568 0.1739132 ]]\n",
      "\u001b[1m1/1\u001b[0m \u001b[32m━━━━━━━━━━━━━━━━━━━━\u001b[0m\u001b[37m\u001b[0m \u001b[1m0s\u001b[0m 48ms/step\n",
      "Action\n",
      "[[0.9998762  0.92685294]]\n",
      "0.9998762\n"
     ]
    }
   ],
   "source": [
    "observations = np.random.rand(1, 8)\n",
    "print('observations')\n",
    "print(observations)\n",
    "\n",
    "obs_input = tf.convert_to_tensor(observations)\n",
    "action = model.predict(obs_input)\n",
    "print(\"Action\")\n",
    "print(action)\n",
    "print(action[0][0])"
   ]
  }
 ],
 "metadata": {
  "kernelspec": {
   "display_name": "base",
   "language": "python",
   "name": "python3"
  },
  "language_info": {
   "codemirror_mode": {
    "name": "ipython",
    "version": 3
   },
   "file_extension": ".py",
   "mimetype": "text/x-python",
   "name": "python",
   "nbconvert_exporter": "python",
   "pygments_lexer": "ipython3",
   "version": "3.9.20"
  }
 },
 "nbformat": 4,
 "nbformat_minor": 5
}
