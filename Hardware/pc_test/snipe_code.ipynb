{
 "cells": [
  {
   "cell_type": "code",
   "execution_count": 10,
   "metadata": {},
   "outputs": [],
   "source": [
    "import numpy as np\n",
    "import math"
   ]
  },
  {
   "cell_type": "code",
   "execution_count": 2,
   "metadata": {},
   "outputs": [
    {
     "name": "stdout",
     "output_type": "stream",
     "text": [
      "100 200\n"
     ]
    }
   ],
   "source": [
    "# String Interpreter\n",
    "\n",
    "policy = \"100, 200\"\n",
    "policy_split = policy.split(\",\")\n",
    "\n",
    "print(policy_split[0], int(policy_split[1]))"
   ]
  },
  {
   "cell_type": "code",
   "execution_count": 3,
   "metadata": {},
   "outputs": [
    {
     "name": "stdout",
     "output_type": "stream",
     "text": [
      "400.32\n"
     ]
    }
   ],
   "source": [
    "a = '400.32'\n",
    "\n",
    "print(float(a))"
   ]
  },
  {
   "cell_type": "code",
   "execution_count": 7,
   "metadata": {},
   "outputs": [
    {
     "name": "stdout",
     "output_type": "stream",
     "text": [
      "(3,)\n",
      "[1. 1. 1.]\n"
     ]
    }
   ],
   "source": [
    "a = np.array([])\n",
    "\n",
    "for _ in range(0,3):\n",
    "    a = np.append(a, 1)\n",
    "\n",
    "\n",
    "print(a.shape)\n",
    "print(a)"
   ]
  },
  {
   "cell_type": "code",
   "execution_count": 9,
   "metadata": {},
   "outputs": [
    {
     "name": "stdout",
     "output_type": "stream",
     "text": [
      "[[1, 2], [3, 4]]\n",
      "1\n",
      "3\n",
      "[1, 3]\n",
      "[19, 1, 3]\n"
     ]
    }
   ],
   "source": [
    "a = [[1, 2], [3, 4]]\n",
    "\n",
    "print(a[:])\n",
    "\n",
    "for d in a:\n",
    "    print(d[0])\n",
    "\n",
    "cc = [b[0] for b in a]\n",
    "print(cc)\n",
    "\n",
    "cc.insert(0, 19)\n",
    "print(cc)"
   ]
  },
  {
   "cell_type": "code",
   "execution_count": 6,
   "metadata": {},
   "outputs": [
    {
     "name": "stdout",
     "output_type": "stream",
     "text": [
      "size 2\n",
      "2\n",
      "5\n",
      "[4, 5]\n"
     ]
    }
   ],
   "source": [
    "a = [[1, 2, 3], [4, 5, 6]]\n",
    "\n",
    "print(\"size\", len(a))\n",
    "print(a[0][1])\n",
    "print(a[-1][1])\n",
    "print(a[1][0:2])"
   ]
  },
  {
   "cell_type": "code",
   "execution_count": 8,
   "metadata": {},
   "outputs": [
    {
     "data": {
      "text/plain": [
       "[165, 150, 135, 120, 105, 90, 75, 60, 45, 30, 15]"
      ]
     },
     "execution_count": 8,
     "metadata": {},
     "output_type": "execute_result"
    }
   ],
   "source": [
    "[180-a for a in range(15, 180, 15)]"
   ]
  },
  {
   "cell_type": "code",
   "execution_count": 11,
   "metadata": {},
   "outputs": [
    {
     "name": "stdout",
     "output_type": "stream",
     "text": [
      "1.5707963267948966\n"
     ]
    }
   ],
   "source": [
    "angle = 90\n",
    "b = math.radians(angle)\n",
    "\n",
    "print(b)"
   ]
  },
  {
   "cell_type": "code",
   "execution_count": null,
   "metadata": {},
   "outputs": [],
   "source": []
  }
 ],
 "metadata": {
  "kernelspec": {
   "display_name": "base",
   "language": "python",
   "name": "python3"
  },
  "language_info": {
   "codemirror_mode": {
    "name": "ipython",
    "version": 3
   },
   "file_extension": ".py",
   "mimetype": "text/x-python",
   "name": "python",
   "nbconvert_exporter": "python",
   "pygments_lexer": "ipython3",
   "version": "3.9.20"
  }
 },
 "nbformat": 4,
 "nbformat_minor": 2
}
